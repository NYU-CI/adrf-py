{
 "cells": [
  {
   "cell_type": "markdown",
   "metadata": {},
   "source": [
    "# ADRF-py example\n",
    "\n",
    "This is an exampe of how to use the ADRF-py library."
   ]
  },
  {
   "cell_type": "code",
   "execution_count": 2,
   "metadata": {},
   "outputs": [
    {
     "data": {
      "text/plain": [
       "'Welcome to ADRF! To know more about me, check my GitHub page: https://github.com/NYU-Chicago-data-facility/adrf-py.'"
      ]
     },
     "execution_count": 2,
     "metadata": {},
     "output_type": "execute_result"
    }
   ],
   "source": [
    "import adrf\n",
    "\n",
    "adrf.hello()"
   ]
  },
  {
   "cell_type": "markdown",
   "metadata": {},
   "source": [
    "## Get a dataset from ADRF"
   ]
  },
  {
   "cell_type": "code",
   "execution_count": 3,
   "metadata": {},
   "outputs": [
    {
     "data": {
      "text/plain": [
       "{'url': 'http://localhost:8000/api/v1/datasets/1/?format=json',\n",
       " 'db_schema': None,\n",
       " 'adrf_id': 'classparticipant',\n",
       " 'active_stewards': [],\n",
       " 'ldap_id': 901,\n",
       " 'ldap_name': 'classparticipant',\n",
       " 'public': False,\n",
       " 'dataset_id': 'h9gi-nx95',\n",
       " 'name': 'NYPD Motor Vehicle Colision',\n",
       " 'description': None,\n",
       " 'dataset_citation': None,\n",
       " 'version': '1',\n",
       " 'source_archive': None,\n",
       " 'source_url': None,\n",
       " 'storage_location': None,\n",
       " 'vault_volume': None,\n",
       " 'needs_review': False,\n",
       " 'shareable': True,\n",
       " 'temporal_coverage_start': None,\n",
       " 'temporal_coverage_end': None,\n",
       " 'data_ingested_at': None,\n",
       " 'data_updated_at': None,\n",
       " 'last_reported_at': None,\n",
       " 'expiration': None,\n",
       " 'require_ndas': False,\n",
       " 'data_classification': 'Green',\n",
       " 'status': 'Disabled',\n",
       " 'report_frequency': 'No Reporting Needed',\n",
       " 'created_at': '2017-10-26T18:41:47.413759-04:00',\n",
       " 'updated_at': '2017-10-26T18:41:47.413783-04:00',\n",
       " 'data_provider': None,\n",
       " 'database_schema': None}"
      ]
     },
     "execution_count": 3,
     "metadata": {},
     "output_type": "execute_result"
    }
   ],
   "source": [
    "# Get a dataset from ADRF\n",
    "ds = adrf.dataset('h9gi-nx95')\n",
    "\n",
    "#Show the dataset metadata\n",
    "ds.metadata\n"
   ]
  },
  {
   "cell_type": "code",
   "execution_count": 4,
   "metadata": {},
   "outputs": [
    {
     "data": {
      "text/plain": [
       "['Collisions']"
      ]
     },
     "execution_count": 4,
     "metadata": {},
     "output_type": "execute_result"
    }
   ],
   "source": [
    "# Show the dataset data tables\n",
    "ds.table_names"
   ]
  },
  {
   "cell_type": "markdown",
   "metadata": {},
   "source": [
    "## Get a dataset table"
   ]
  },
  {
   "cell_type": "code",
   "execution_count": 7,
   "metadata": {
    "scrolled": true
   },
   "outputs": [
    {
     "data": {
      "text/plain": [
       "{'url': 'http://localhost:8000/api/v1/datatables/190/',\n",
       " 'name': 'Collisions',\n",
       " 'rows': None,\n",
       " 'columns': None,\n",
       " 'values': None,\n",
       " 'gps_latitude_min': None,\n",
       " 'gps_latitude_max': None,\n",
       " 'gps_longitude_min': None,\n",
       " 'gps_longitude_max': None,\n",
       " 'size': '',\n",
       " 'temporal_coverage_start': None,\n",
       " 'temporal_coverage_end': None,\n",
       " 'created_at': '2018-12-14T00:15:56.392169-05:00',\n",
       " 'updated_at': '2018-12-14T00:15:56.392200-05:00',\n",
       " 'file': None,\n",
       " 'dataset': 'http://localhost:8000/api/v1/datasets/1/'}"
      ]
     },
     "execution_count": 7,
     "metadata": {},
     "output_type": "execute_result"
    }
   ],
   "source": [
    "# Get a table from the dataset by name\n",
    "table = ds.table('Collisions')\n",
    "\n",
    "# or get a table using the index on the dataset tables list\n",
    "# table = ds.tables[0]\n",
    "\n",
    "# Check its metadata\n",
    "table.metadata"
   ]
  },
  {
   "cell_type": "markdown",
   "metadata": {},
   "source": [
    "## Read the data from the table to a pandas data frame\n"
   ]
  },
  {
   "cell_type": "code",
   "execution_count": null,
   "metadata": {},
   "outputs": [],
   "source": [
    "table.data_frame\n",
    "\n",
    "# or get the data frame in one line using method chain:\n",
    "adrf.dataset('h9gi-nx95').tables('Collisions').data_frame"
   ]
  }
 ],
 "metadata": {
  "kernelspec": {
   "display_name": "Python 3",
   "language": "python",
   "name": "python3"
  },
  "language_info": {
   "codemirror_mode": {
    "name": "ipython",
    "version": 3
   },
   "file_extension": ".py",
   "mimetype": "text/x-python",
   "name": "python",
   "nbconvert_exporter": "python",
   "pygments_lexer": "ipython3",
   "version": "3.7.1"
  }
 },
 "nbformat": 4,
 "nbformat_minor": 1
}
